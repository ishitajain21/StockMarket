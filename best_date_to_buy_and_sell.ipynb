{
 "cells": [
  {
   "cell_type": "code",
   "execution_count": null,
   "metadata": {},
   "outputs": [],
   "source": [
    "import pandas as pd\n",
    "import numpy as np\n",
    "import datetime\n",
    "import seaborn as sns\n",
    "import yfinance as yf"
   ]
  },
  {
   "cell_type": "code",
   "execution_count": null,
   "metadata": {},
   "outputs": [],
   "source": [
    "print(\"Welcome to the Stock Fortune Teller( except in the past). I will tell you the best dates you should have bought and sold a particular stock.\")\n",
    "print(\"Start by putting in the ticker symbol. Then put in the start dates and end dates of the stocks to buy.\")\n",
    "tick = yf.Ticker(input(\"What is the Ticker symbol?        \").lower())\n",
    "st = input(\"Enter start date as YYYY-MM-DD:   \")\n",
    "en = input(\"Enter end date as YYYY-MM-DD:     \")\n"
   ]
  },
  {
   "cell_type": "code",
   "execution_count": null,
   "metadata": {},
   "outputs": [],
   "source": [
    "tick_hist = tick.history(start=st, end=en, interval=\"1d\")"
   ]
  },
  {
   "cell_type": "code",
   "execution_count": null,
   "metadata": {},
   "outputs": [],
   "source": [
    "tick_hist.head()"
   ]
  },
  {
   "cell_type": "code",
   "execution_count": null,
   "metadata": {},
   "outputs": [],
   "source": [
    "low_date = tick_hist.idxmin()['Low']\n",
    "low_amount = tick_hist.min()['Low']"
   ]
  },
  {
   "cell_type": "code",
   "execution_count": null,
   "metadata": {},
   "outputs": [],
   "source": [
    "high_date = tick_hist.idxmax()['High']\n",
    "high_amount = tick_hist.max()['High']"
   ]
  },
  {
   "cell_type": "code",
   "execution_count": null,
   "metadata": {},
   "outputs": [],
   "source": [
    "print('The amount you have earned is                       $', round(high_amount - low_amount))\n",
    "print('That is {0}% of the starting stock'.format(round((high_amount-low_amount) / low_amount * 100)))\n",
    "print('The date that you should have bought the stock is  ',low_date)\n",
    "print('The date you should have sold the stock is         ',high_date)"
   ]
  },
  {
   "cell_type": "code",
   "execution_count": null,
   "metadata": {},
   "outputs": [],
   "source": [
    "sns.plot(tick_hist)"
   ]
  },
  {
   "cell_type": "code",
   "execution_count": null,
   "metadata": {},
   "outputs": [],
   "source": []
  },
  {
   "cell_type": "code",
   "execution_count": null,
   "metadata": {},
   "outputs": [],
   "source": []
  }
 ],
 "metadata": {
  "kernelspec": {
   "display_name": "Python 3",
   "language": "python",
   "name": "python3"
  },
  "language_info": {
   "codemirror_mode": {
    "name": "ipython",
    "version": 3
   },
   "file_extension": ".py",
   "mimetype": "text/x-python",
   "name": "python",
   "nbconvert_exporter": "python",
   "pygments_lexer": "ipython3",
   "version": "3.8.5"
  }
 },
 "nbformat": 4,
 "nbformat_minor": 4
}
